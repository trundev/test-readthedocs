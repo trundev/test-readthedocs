{
 "cells": [
  {
   "cell_type": "code",
   "execution_count": null,
   "metadata": {},
   "outputs": [],
   "source": [
    "from clifford.g4 import *"
   ]
  },
  {
   "cell_type": "code",
   "execution_count": null,
   "metadata": {},
   "outputs": [],
   "source": [
    "# Metric\n",
    "print(e1*e1)\n",
    "print(e2*e2)\n",
    "print(e3*e3)\n",
    "print(e4*e4)"
   ]
  },
  {
   "cell_type": "code",
   "execution_count": null,
   "metadata": {},
   "outputs": [],
   "source": [
    "# Example\n",
    "a = (2 + 5.7*e2)*(e1 + e4*e3)\n",
    "b = 5*e2 - 3.5*e1\n",
    "print(a)\n",
    "print(b)\n",
    "\n",
    "# Projection\n",
    "print(a(2))\n",
    "\n",
    "# Outer product\n",
    "print(a^b)\n",
    "\n",
    "# Inner product\n",
    "print(a|b)\n",
    "\n",
    "# Left contraction\n",
    "print(a.lc(b))"
   ]
  },
  {
   "cell_type": "code",
   "execution_count": null,
   "metadata": {},
   "outputs": [],
   "source": []
  }
 ],
 "metadata": {
  "kernelspec": {
   "display_name": "Python 2",
   "language": "python",
   "name": "python2"
  },
  "language_info": {
   "codemirror_mode": {
    "name": "ipython",
    "version": 2
   },
   "file_extension": ".py",
   "mimetype": "text/x-python",
   "name": "python",
   "nbconvert_exporter": "python",
   "pygments_lexer": "ipython2",
   "version": "2.7.13"
  }
 },
 "nbformat": 4,
 "nbformat_minor": 0
}
